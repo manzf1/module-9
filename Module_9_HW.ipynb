{
  "nbformat": 4,
  "nbformat_minor": 0,
  "metadata": {
    "colab": {
      "name": "Module 9 HW",
      "provenance": []
    },
    "kernelspec": {
      "name": "python3",
      "display_name": "Python 3"
    },
    "language_info": {
      "name": "python"
    }
  },
  "cells": [
    {
      "cell_type": "markdown",
      "metadata": {
        "id": "cOaxGXE4EFkT"
      },
      "source": [
        "##### Create a function to do max, min, average, standard deviation, and geometric average"
      ]
    },
    {
      "cell_type": "code",
      "metadata": {
        "colab": {
          "base_uri": "https://localhost:8080/"
        },
        "id": "9--2zAF_IYLJ",
        "outputId": "9732ea5f-91d2-43cd-a740-cb13c6df8eec"
      },
      "source": [
        "import numpy as np\n",
        "def theMax(numbers):\n",
        "  my_max = numbers[0]\n",
        "  for i in numbers:\n",
        "    if my_max < i:\n",
        "      my_max = i\n",
        "  return my_max\n",
        "\n",
        "def theMin(numbers):\n",
        "  my_min = numbers[0]\n",
        "  for i in numbers:\n",
        "    if my_min > i:\n",
        "      my_min = i\n",
        "  return my_min\n",
        "\n",
        "def theAverage(numbers):\n",
        "  total = 0\n",
        "  for i in numbers:\n",
        "    total += i\n",
        "  return total/len(numbers)\n",
        "\n",
        "\n",
        "def theStandev(numbers):\n",
        "  mean = sum(numbers) / len(numbers)\n",
        "  variance = sum([((x - mean) ** 2) for x in numbers]) / len(numbers)\n",
        "  res = variance ** 0.5\n",
        "  return res \n",
        "\n",
        "def theGeomean(numbers):\n",
        "  mult = 1\n",
        "  for i in numbers:\n",
        "    mult *= i\n",
        "  return pow(mult, 1/len(numbers))      \n",
        "\n",
        "\n",
        "a = [8,6,2,9,13,3]\n",
        "print(theMax(a))\n",
        "print(theMin(a))\n",
        "print(theAverage(a))\n",
        "print(theStandev(a)) \n",
        "print(theGeomean(a))   \n",
        "\n",
        "\n",
        "\n"
      ],
      "execution_count": 25,
      "outputs": [
        {
          "output_type": "stream",
          "name": "stdout",
          "text": [
            "13\n",
            "2\n",
            "6.833333333333333\n",
            "3.7155828016013257\n",
            "5.683245170896967\n"
          ]
        }
      ]
    },
    {
      "cell_type": "markdown",
      "metadata": {
        "id": "pCfFrdYZPYyj"
      },
      "source": [
        "##### Create a function that asks the user which shape they would like to analyze. it should then call other functions based on this and return the area of the shape.The triangle function should take in the base and height, the circle function should take in the radius, and the square function should take in the side length."
      ]
    },
    {
      "cell_type": "code",
      "metadata": {
        "colab": {
          "base_uri": "https://localhost:8080/",
          "height": 132
        },
        "id": "3ysyyINWQc_4",
        "outputId": "b5841e44-a210-415c-b16c-ffd5f8eb1c25"
      },
      "source": [
        "def shape_choice():\n",
        "  data = int(input(\"Which shape would you like to find the area of? (triangle = 1, square = 2, circle = 3) \")\n",
        "  if (data == 1):\n",
        "    base = float(input(\"What is the base?\"))\n",
        "    height = float(input(\"What is the height?\"))\n",
        "    triangle(base, height)\n",
        "  elif (data == 2):\n",
        "    side = float(input(\"What is the side?\"))\n",
        "    square()\n",
        "  elif (data == 3):\n",
        "    radius = float(input(\"What is the radius?\"))\n",
        "    radius()  \n",
        "\n",
        "def triangle(base, height):\n",
        "  print(\"The area of the triangle is: \", base*height)\n",
        "\n",
        "def square(side):\n",
        "  print(\"The area of the square is: \", side*side)\n",
        "\n",
        "def circle(radius):\n",
        "  print(\"The area of the circle is: \", ((m.pi)*(radius**2)))  \n",
        "\n",
        "shape_choice()          "
      ],
      "execution_count": 26,
      "outputs": [
        {
          "output_type": "error",
          "ename": "SyntaxError",
          "evalue": "ignored",
          "traceback": [
            "\u001b[0;36m  File \u001b[0;32m\"<ipython-input-26-4402bd3323c1>\"\u001b[0;36m, line \u001b[0;32m3\u001b[0m\n\u001b[0;31m    if (data == 1):\u001b[0m\n\u001b[0m                  ^\u001b[0m\n\u001b[0;31mSyntaxError\u001b[0m\u001b[0;31m:\u001b[0m invalid syntax\n"
          ]
        }
      ]
    },
    {
      "cell_type": "markdown",
      "metadata": {
        "id": "dcw-0_dki03b"
      },
      "source": [
        "##### Create a function that takes in a list and returns the list doubled. It should ask the user for option one or two. If the user chooses option one it should return the list doubled such as [1 2 3] becoming [1 2 3 1 2 3], if the user chooses option two then is should return the list such as [1 2 3] becoming [2 4 6]."
      ]
    },
    {
      "cell_type": "code",
      "metadata": {
        "colab": {
          "base_uri": "https://localhost:8080/"
        },
        "id": "BbFdVmsSjKsT",
        "outputId": "bb16f48e-ccbe-4b5e-ec19-e290b3f2cf71"
      },
      "source": [
        "import numpy as np\n",
        "def approach(numbers):\n",
        "  choice = int(input(\"Would you like to see the list 2 times (write 1) or would you like to see the numbers double (write 2)\"))\n",
        "  if choice is 1:\n",
        "    numbers = numbers*2\n",
        "  elif choice is 2:\n",
        "    numbers = np.array(numbers)\n",
        "    numbers = numbers*2\n",
        "  return numbers\n",
        "\n",
        "vals = [1, 2, 3, 4, 5, 6]\n",
        "print(approach(vals))      "
      ],
      "execution_count": 11,
      "outputs": [
        {
          "output_type": "stream",
          "name": "stdout",
          "text": [
            "Would you like to see the list 2 times (write 1) or would you like to see the numbers double (write 2)2\n",
            "[ 2  4  6  8 10 12]\n"
          ]
        }
      ]
    },
    {
      "cell_type": "markdown",
      "metadata": {
        "id": "U3rTnthcmXGH"
      },
      "source": [
        "#####Create a function that takes in two lists and concatenates the numbers in those lists. For instance, if we have [1 2 3] and [7 8 9], we should return [17 28 39]."
      ]
    },
    {
      "cell_type": "code",
      "metadata": {
        "colab": {
          "base_uri": "https://localhost:8080/"
        },
        "id": "VLVNP6l5mhse",
        "outputId": "6efc5582-44d6-408e-fb16-a98aafb9d027"
      },
      "source": [
        "def concat_lists(list_1, list_2):\n",
        "  concated = []\n",
        "  for (i, j) in zip (list_1, list_2):\n",
        "    concated.append(int(str(i) + str(j)))\n",
        "  return concated\n",
        "\n",
        "list_1 = [1,2,3]\n",
        "list_2 = [7,8,9]\n",
        "print(concat_lists(list_1,list_2))    \n"
      ],
      "execution_count": 5,
      "outputs": [
        {
          "output_type": "stream",
          "name": "stdout",
          "text": [
            "[17, 28, 39]\n"
          ]
        }
      ]
    },
    {
      "cell_type": "markdown",
      "metadata": {
        "id": "X0y0xmHEnxQt"
      },
      "source": [
        "#####Create a function that returns a list of primes up until the number passed in. So if 100 is passed in, it should return all the primes up until 100."
      ]
    },
    {
      "cell_type": "code",
      "metadata": {
        "colab": {
          "base_uri": "https://localhost:8080/"
        },
        "id": "k5gUgRNrn5tV",
        "outputId": "979f5369-0155-4df9-d32c-3d61bfe2e0c6"
      },
      "source": [
        "def list_of_primes(n):\n",
        "    primes = []\n",
        "    for y in range (2, n):\n",
        "        for z in range(2, y):\n",
        "            if y % z == 0:\n",
        "                break\n",
        "        else:\n",
        "            primes.append(y)\n",
        "    primes.sort()\n",
        "    return primes\n",
        "\n",
        "list_of_primes(100)"
      ],
      "execution_count": 9,
      "outputs": [
        {
          "output_type": "execute_result",
          "data": {
            "text/plain": [
              "[2,\n",
              " 3,\n",
              " 5,\n",
              " 7,\n",
              " 11,\n",
              " 13,\n",
              " 17,\n",
              " 19,\n",
              " 23,\n",
              " 29,\n",
              " 31,\n",
              " 37,\n",
              " 41,\n",
              " 43,\n",
              " 47,\n",
              " 53,\n",
              " 59,\n",
              " 61,\n",
              " 67,\n",
              " 71,\n",
              " 73,\n",
              " 79,\n",
              " 83,\n",
              " 89,\n",
              " 97]"
            ]
          },
          "metadata": {},
          "execution_count": 9
        }
      ]
    },
    {
      "cell_type": "markdown",
      "metadata": {
        "id": "R_90744dqN-6"
      },
      "source": [
        "#####Write a function calculation() such that it can accept two variables and calculate the multiplication and divison of it. And also it must return both results in a single return call"
      ]
    },
    {
      "cell_type": "code",
      "metadata": {
        "colab": {
          "base_uri": "https://localhost:8080/"
        },
        "id": "Mya8VexUqWN6",
        "outputId": "924660ec-88f6-4a73-8b87-2fe0e7ba6eaa"
      },
      "source": [
        "def calculation(a, b):\n",
        "  return a*b, a/b\n",
        "\n",
        "multiply, divide = calculation(5,7)\n",
        "print(multiply, \" \", divide)  "
      ],
      "execution_count": 10,
      "outputs": [
        {
          "output_type": "stream",
          "name": "stdout",
          "text": [
            "35   0.7142857142857143\n"
          ]
        }
      ]
    },
    {
      "cell_type": "markdown",
      "metadata": {
        "id": "gY5mcJyDrB6j"
      },
      "source": [
        "#####If we list all the natural numbers below 10 that are multiples of 3 or 5, we get 3, 5, 6 and 9. The sum of these multiples is 23.Find the sum of all the multiples of 3 or 5 below 1000."
      ]
    },
    {
      "cell_type": "code",
      "metadata": {
        "colab": {
          "base_uri": "https://localhost:8080/"
        },
        "id": "d2I0mzjIrJP3",
        "outputId": "b6be8c29-a126-4cfa-b41f-037f8d433f7d"
      },
      "source": [
        "total_sum = 0\n",
        "for i in range(1000):\n",
        "  if (i % 3 == 0 or i % 5 == 0):\n",
        "    total_sum = total_sum + i\n",
        "\n",
        "print(total_sum)    "
      ],
      "execution_count": 24,
      "outputs": [
        {
          "output_type": "stream",
          "name": "stdout",
          "text": [
            "233168\n"
          ]
        }
      ]
    },
    {
      "cell_type": "markdown",
      "metadata": {
        "id": "7OaZMyTMys1_"
      },
      "source": [
        "#####Find the sum of the even valued Fibonacci numbers below 500"
      ]
    },
    {
      "cell_type": "code",
      "metadata": {
        "colab": {
          "base_uri": "https://localhost:8080/"
        },
        "id": "CFQz-Pniy8fN",
        "outputId": "3cb1c8cc-18cc-4529-cb48-b0679ae7c8a9"
      },
      "source": [
        "def evenFib(k):\n",
        "  first = 1\n",
        "  second = 0\n",
        "  total = first + second\n",
        "  for i in range(k):\n",
        "    third = first + second\n",
        "    if (third % 2 == 0):\n",
        "      total += third\n",
        "    first = second\n",
        "    second = third\n",
        "  return total\n",
        "\n",
        "print(evenFib(10))  \n"
      ],
      "execution_count": 23,
      "outputs": [
        {
          "output_type": "stream",
          "name": "stdout",
          "text": [
            "45\n"
          ]
        }
      ]
    },
    {
      "cell_type": "markdown",
      "metadata": {
        "id": "c6f6W6nT698A"
      },
      "source": [
        "#####Extra Credit: https://projecteuler.net/problem=30 "
      ]
    },
    {
      "cell_type": "code",
      "metadata": {
        "colab": {
          "base_uri": "https://localhost:8080/"
        },
        "id": "tw07XPz37Gex",
        "outputId": "4669b5c9-38e7-402b-beff-67bf6604c5e9"
      },
      "source": [
        "import math as m\n",
        "def fifth_powers():\n",
        "  for spot in range(2,1000000):\n",
        "    digits = [int(i) for i in str(spot)]\n",
        "    total = 0\n",
        "    for k in digits:\n",
        "      total += m.pow(k,5)\n",
        "    if total == spot:\n",
        "      print(total)\n",
        "\n",
        "fifth_powers()        "
      ],
      "execution_count": 28,
      "outputs": [
        {
          "output_type": "stream",
          "name": "stdout",
          "text": [
            "4150.0\n",
            "4151.0\n",
            "54748.0\n",
            "92727.0\n",
            "93084.0\n",
            "194979.0\n"
          ]
        }
      ]
    },
    {
      "cell_type": "markdown",
      "metadata": {
        "id": "27SR1RQk-Lc-"
      },
      "source": [
        "#####Extra Credit: choose another project euler problem of your liking and solve it"
      ]
    },
    {
      "cell_type": "code",
      "metadata": {
        "colab": {
          "base_uri": "https://localhost:8080/"
        },
        "id": "iws9jW64-S9K",
        "outputId": "d9514e9a-733e-4665-806e-0cea4b6a6665"
      },
      "source": [
        "print(sum(int(i) for i in str(2**1000)))"
      ],
      "execution_count": 29,
      "outputs": [
        {
          "output_type": "stream",
          "name": "stdout",
          "text": [
            "1366\n"
          ]
        }
      ]
    }
  ]
}